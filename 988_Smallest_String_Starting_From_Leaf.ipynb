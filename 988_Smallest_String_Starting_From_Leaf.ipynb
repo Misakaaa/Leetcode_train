{
 "cells": [
  {
   "cell_type": "code",
   "execution_count": null,
   "metadata": {},
   "outputs": [],
   "source": [
    "# Definition for a binary tree node.\n",
    "# class TreeNode:\n",
    "#     def __init__(self, x):\n",
    "#         self.val = x\n",
    "#         self.left = None\n",
    "#         self.right = None\n",
    "\n",
    "class Solution:\n",
    "    def smallestFromLeaf(self, root: 'TreeNode') -> 'str':\n",
    "        if not root: return ''\n",
    "        left = self.smallestFromLeaf(root.left)\n",
    "        right = self.smallestFromLeaf(root.right)\n",
    "        return chr(97+root.val)+(left if right == '' or (left != '' and left < right) else right)"
   ]
  }
 ],
 "metadata": {
  "kernelspec": {
   "display_name": "Python 3",
   "language": "python",
   "name": "python3"
  },
  "language_info": {
   "codemirror_mode": {
    "name": "ipython",
    "version": 3
   },
   "file_extension": ".py",
   "mimetype": "text/x-python",
   "name": "python",
   "nbconvert_exporter": "python",
   "pygments_lexer": "ipython3",
   "version": "3.6.3"
  }
 },
 "nbformat": 4,
 "nbformat_minor": 2
}
